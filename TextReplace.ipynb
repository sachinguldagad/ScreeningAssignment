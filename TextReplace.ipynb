{
 "cells": [
  {
   "cell_type": "code",
   "execution_count": 1,
   "id": "83e455a8",
   "metadata": {},
   "outputs": [
    {
     "name": "stdout",
     "output_type": "stream",
     "text": [
      "enter text to be replaced:sdf\n",
      "Text to be replaced has been written in file.txt\n",
      "Text written in file\n"
     ]
    }
   ],
   "source": [
    "# Python program to replace text in a file\n",
    "x = input(\"enter text to be replaced:\")\n",
    "\n",
    "# file.txt should be replaced with\n",
    "# the actual text file name\n",
    "f = open(\"file.txt\", \"w\")\n",
    "f.write(x)\n",
    "print('Text to be replaced has been written in file.txt')\n",
    "# each sentence becomes an element in the list l\n",
    "\n",
    "f.close()\n",
    "print(\"Text written in file\")\n"
   ]
  },
  {
   "cell_type": "code",
   "execution_count": 2,
   "id": "443cf639",
   "metadata": {},
   "outputs": [
    {
     "name": "stdout",
     "output_type": "stream",
     "text": [
      "enter text that will replace:sdfsfd\n",
      "Text successfully replaced\n"
     ]
    }
   ],
   "source": [
    "y = input(\"enter text that will replace:\")\n",
    "f = open(\"file.txt\", \"r+\")\n",
    "f.write(x)\n",
    "l = f.readlines()\n",
    "\n",
    "# acts as a counter to know the\n",
    "# index of the element to be replaced\n",
    "c = 0\n",
    "for i in l:\n",
    "    if x in i:\n",
    "\n",
    "        # Replacement carries the value\n",
    "        # of the text to be replaced\n",
    "        Replacement = i.replace(x, y)\n",
    "\n",
    "        # changes are made in the list\n",
    "        l = Replacement\n",
    "    c += 1\n",
    "\n",
    "# The pre existing text in the file is erased\n",
    "f.truncate(0)\n",
    "\n",
    "# the modified list is written into\n",
    "# the file thereby replacing the old text\n",
    "f.writelines(l)\n",
    "f.close()\n",
    "print(\"Text successfully replaced\")\n"
   ]
  },
  {
   "cell_type": "code",
   "execution_count": null,
   "id": "885a5b78",
   "metadata": {},
   "outputs": [],
   "source": []
  }
 ],
 "metadata": {
  "kernelspec": {
   "display_name": "Python 3 (ipykernel)",
   "language": "python",
   "name": "python3"
  },
  "language_info": {
   "codemirror_mode": {
    "name": "ipython",
    "version": 3
   },
   "file_extension": ".py",
   "mimetype": "text/x-python",
   "name": "python",
   "nbconvert_exporter": "python",
   "pygments_lexer": "ipython3",
   "version": "3.9.7"
  }
 },
 "nbformat": 4,
 "nbformat_minor": 5
}
